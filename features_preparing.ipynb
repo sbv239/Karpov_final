{
 "cells": [
  {
   "cell_type": "code",
   "execution_count": 1,
   "id": "62498290-0c7b-4a74-9646-b6ba020dd378",
   "metadata": {},
   "outputs": [],
   "source": [
    "import pandas as pd"
   ]
  },
  {
   "cell_type": "code",
   "execution_count": 2,
   "id": "b3e7544c-2ad8-4475-b2cf-66909beff861",
   "metadata": {},
   "outputs": [],
   "source": [
    "from sqlalchemy import create_engine\n",
    "\n",
    "def batch_load_sql(query: str) -> pd.DataFrame:\n",
    "    CHUNKSIZE = 200000\n",
    "    engine = create_engine(\n",
    "        \"postgresql://robot-startml-ro:pheiph0hahj1Vaif@\"\n",
    "        \"postgres.lab.karpov.courses:6432/startml\"\n",
    "    )\n",
    "    conn = engine.connect().execution_options(stream_results=True)\n",
    "    chunks = []\n",
    "    for chunk_dataframe in pd.read_sql(query, conn, chunksize=CHUNKSIZE):\n",
    "        chunks.append(chunk_dataframe)\n",
    "    conn.close()\n",
    "    return pd.concat(chunks, ignore_index=True)\n",
    "\n",
    "def load_features(select) -> pd.DataFrame:\n",
    "    return batch_load_sql(select)"
   ]
  },
  {
   "cell_type": "code",
   "execution_count": 3,
   "id": "0b415e4f-ba38-4284-bfd5-ae10de47b630",
   "metadata": {},
   "outputs": [],
   "source": [
    "posts_df = pd.read_csv('clusterized_post_df.csv')"
   ]
  },
  {
   "cell_type": "code",
   "execution_count": 4,
   "id": "64344b00-8ce3-4432-87b4-4186b89aaac4",
   "metadata": {},
   "outputs": [],
   "source": [
    "posts_df.drop('ada_embedding', axis=1, inplace=True)"
   ]
  },
  {
   "cell_type": "markdown",
   "id": "3f32354c-b3d1-4bed-a41b-dead462b60fc",
   "metadata": {},
   "source": [
    "## Find total post likes and like rate"
   ]
  },
  {
   "cell_type": "code",
   "execution_count": 6,
   "id": "15634bc2-38b1-4e26-9851-52e1eced6601",
   "metadata": {},
   "outputs": [],
   "source": [
    "select = \"SELECT COUNT(*), post_id FROM feed_data WHERE action = 'like' GROUP BY post_id\"\n",
    "posts_likes = load_features(select)\n",
    "posts_likes = posts_likes.set_index('post_id')"
   ]
  },
  {
   "cell_type": "code",
   "execution_count": 7,
   "id": "63050183-b689-45db-9563-e0345f90b761",
   "metadata": {},
   "outputs": [],
   "source": [
    "posts_df['total_likes'] = posts_df['post_id'].map(posts_likes['count'])"
   ]
  },
  {
   "cell_type": "code",
   "execution_count": 8,
   "id": "58e26939-28b4-49b2-8d4a-ab8873a04cbe",
   "metadata": {},
   "outputs": [],
   "source": [
    "select = \"SELECT COUNT(*), post_id FROM feed_data GROUP BY post_id\"\n",
    "posts_actions = load_features(select)"
   ]
  },
  {
   "cell_type": "code",
   "execution_count": 9,
   "id": "2fc377a7-57c0-4a3b-9116-4e8cdebef9f6",
   "metadata": {},
   "outputs": [],
   "source": [
    "posts_actions = posts_actions.set_index('post_id')"
   ]
  },
  {
   "cell_type": "code",
   "execution_count": 10,
   "id": "e3a74131-2fb7-4249-b7d3-e8244c79bfcb",
   "metadata": {},
   "outputs": [],
   "source": [
    "posts_df['like_rate'] = posts_df['post_id'].map(posts_likes['count'] / posts_actions['count'])"
   ]
  },
  {
   "cell_type": "code",
   "execution_count": 11,
   "id": "36fd813e-5283-4f12-a04a-4058167b70ca",
   "metadata": {},
   "outputs": [],
   "source": [
    "posts_df['like_rate'] = posts_df['like_rate'].fillna(posts_df['like_rate'].mean())\n",
    "posts_df['total_likes'] = posts_df['total_likes'].fillna(posts_df['total_likes'].mean())"
   ]
  },
  {
   "cell_type": "markdown",
   "id": "b63d5508-1e24-4acf-8d35-7ce8dddbff1d",
   "metadata": {},
   "source": [
    "## Find post avarege liking age"
   ]
  },
  {
   "cell_type": "code",
   "execution_count": 18,
   "id": "7fdce983-8248-4d0f-93e4-5ed66f23134d",
   "metadata": {},
   "outputs": [],
   "source": [
    "select = \"\"\"\n",
    "            SELECT AVG(age), pt.post_id\n",
    "            FROM feed_data as fd\n",
    "            JOIN user_data as ud\n",
    "            ON fd.user_id = ud.user_id\n",
    "            JOIN post_text_df as pt\n",
    "            ON fd.post_id = pt.post_id\n",
    "            WHERE action = 'like'\n",
    "            GROUP BY pt.post_id\n",
    "         \"\"\"\n",
    "age_likes = load_features(select)"
   ]
  },
  {
   "cell_type": "code",
   "execution_count": 20,
   "id": "ca06e113-1b83-4689-bf34-a6c3e0c149cf",
   "metadata": {},
   "outputs": [],
   "source": [
    "age_likes = age_likes.set_index('post_id')"
   ]
  },
  {
   "cell_type": "code",
   "execution_count": 21,
   "id": "a0a8cbd7-a5a4-426d-86b7-45ffb3ef032f",
   "metadata": {},
   "outputs": [],
   "source": [
    "posts_df['avg_liking_age'] = posts_df['post_id'].map(age_likes['avg'])"
   ]
  },
  {
   "cell_type": "code",
   "execution_count": 23,
   "id": "8d48e4d3-d9a3-4fbe-94ff-a2299b436cf3",
   "metadata": {},
   "outputs": [],
   "source": [
    "posts_df['avg_liking_age'] = posts_df['avg_liking_age'].fillna(posts_df['avg_liking_age'].mean())"
   ]
  },
  {
   "cell_type": "code",
   "execution_count": 27,
   "id": "934f487c-5004-4282-9e82-ff7adbf22dea",
   "metadata": {},
   "outputs": [
    {
     "data": {
      "text/plain": [
       "23"
      ]
     },
     "execution_count": 27,
     "metadata": {},
     "output_type": "execute_result"
    }
   ],
   "source": [
    "engine = create_engine(\n",
    "        \"postgresql://robot-startml-ro:pheiph0hahj1Vaif@\"\n",
    "        \"postgres.lab.karpov.courses:6432/startml\"\n",
    "    )\n",
    "posts_df.to_sql('b_shramko_posts_features_lesson_22', con=engine, if_exists='replace', index=False)"
   ]
  },
  {
   "cell_type": "code",
   "execution_count": 26,
   "id": "ec015b0d-c0aa-4735-a144-5932e84f8f9c",
   "metadata": {},
   "outputs": [],
   "source": [
    "posts_df.to_csv('clusterized_post_df.csv', index=False)"
   ]
  },
  {
   "cell_type": "code",
   "execution_count": 25,
   "id": "1b919575-eae7-4df3-b3ba-c63f74a2a9f2",
   "metadata": {},
   "outputs": [
    {
     "data": {
      "text/html": [
       "<div>\n",
       "<style scoped>\n",
       "    .dataframe tbody tr th:only-of-type {\n",
       "        vertical-align: middle;\n",
       "    }\n",
       "\n",
       "    .dataframe tbody tr th {\n",
       "        vertical-align: top;\n",
       "    }\n",
       "\n",
       "    .dataframe thead th {\n",
       "        text-align: right;\n",
       "    }\n",
       "</style>\n",
       "<table border=\"1\" class=\"dataframe\">\n",
       "  <thead>\n",
       "    <tr style=\"text-align: right;\">\n",
       "      <th></th>\n",
       "      <th>post_id</th>\n",
       "      <th>text</th>\n",
       "      <th>topic</th>\n",
       "      <th>average_sentence_length</th>\n",
       "      <th>post_len</th>\n",
       "      <th>tsne-2d-one</th>\n",
       "      <th>tsne-2d-two</th>\n",
       "      <th>cluster</th>\n",
       "      <th>total_likes</th>\n",
       "      <th>like_rate</th>\n",
       "      <th>avg_liking_age</th>\n",
       "    </tr>\n",
       "  </thead>\n",
       "  <tbody>\n",
       "    <tr>\n",
       "      <th>0</th>\n",
       "      <td>1</td>\n",
       "      <td>UK economy facing major risks\\n\\nThe UK manufa...</td>\n",
       "      <td>business</td>\n",
       "      <td>19.117647</td>\n",
       "      <td>1967</td>\n",
       "      <td>-54.696510</td>\n",
       "      <td>-3.841329</td>\n",
       "      <td>19</td>\n",
       "      <td>1067.0</td>\n",
       "      <td>0.111436</td>\n",
       "      <td>29.099344</td>\n",
       "    </tr>\n",
       "    <tr>\n",
       "      <th>1</th>\n",
       "      <td>2</td>\n",
       "      <td>Aids and climate top Davos agenda\\n\\nClimate c...</td>\n",
       "      <td>business</td>\n",
       "      <td>23.631579</td>\n",
       "      <td>2701</td>\n",
       "      <td>-51.182384</td>\n",
       "      <td>-20.905855</td>\n",
       "      <td>19</td>\n",
       "      <td>637.0</td>\n",
       "      <td>0.078333</td>\n",
       "      <td>31.910518</td>\n",
       "    </tr>\n",
       "    <tr>\n",
       "      <th>2</th>\n",
       "      <td>3</td>\n",
       "      <td>Asian quake hits European shares\\n\\nShares in ...</td>\n",
       "      <td>business</td>\n",
       "      <td>10.865385</td>\n",
       "      <td>3408</td>\n",
       "      <td>-49.081220</td>\n",
       "      <td>-15.098360</td>\n",
       "      <td>19</td>\n",
       "      <td>1122.0</td>\n",
       "      <td>0.117684</td>\n",
       "      <td>29.262923</td>\n",
       "    </tr>\n",
       "    <tr>\n",
       "      <th>3</th>\n",
       "      <td>4</td>\n",
       "      <td>India power shares jump on debut\\n\\nShares in ...</td>\n",
       "      <td>business</td>\n",
       "      <td>15.818182</td>\n",
       "      <td>1026</td>\n",
       "      <td>-43.553980</td>\n",
       "      <td>-14.994580</td>\n",
       "      <td>4</td>\n",
       "      <td>1171.0</td>\n",
       "      <td>0.125523</td>\n",
       "      <td>29.084543</td>\n",
       "    </tr>\n",
       "    <tr>\n",
       "      <th>4</th>\n",
       "      <td>5</td>\n",
       "      <td>Lacroix label bought by US firm\\n\\nLuxury good...</td>\n",
       "      <td>business</td>\n",
       "      <td>21.428571</td>\n",
       "      <td>889</td>\n",
       "      <td>-30.916187</td>\n",
       "      <td>-18.663040</td>\n",
       "      <td>4</td>\n",
       "      <td>1153.0</td>\n",
       "      <td>0.118426</td>\n",
       "      <td>29.479618</td>\n",
       "    </tr>\n",
       "    <tr>\n",
       "      <th>...</th>\n",
       "      <td>...</td>\n",
       "      <td>...</td>\n",
       "      <td>...</td>\n",
       "      <td>...</td>\n",
       "      <td>...</td>\n",
       "      <td>...</td>\n",
       "      <td>...</td>\n",
       "      <td>...</td>\n",
       "      <td>...</td>\n",
       "      <td>...</td>\n",
       "      <td>...</td>\n",
       "    </tr>\n",
       "    <tr>\n",
       "      <th>7018</th>\n",
       "      <td>7315</td>\n",
       "      <td>OK, I would not normally watch a Farrelly brot...</td>\n",
       "      <td>movie</td>\n",
       "      <td>14.454545</td>\n",
       "      <td>803</td>\n",
       "      <td>23.089860</td>\n",
       "      <td>8.660326</td>\n",
       "      <td>3</td>\n",
       "      <td>2619.0</td>\n",
       "      <td>0.133903</td>\n",
       "      <td>22.554792</td>\n",
       "    </tr>\n",
       "    <tr>\n",
       "      <th>7019</th>\n",
       "      <td>7316</td>\n",
       "      <td>I give this movie 2 stars purely because of it...</td>\n",
       "      <td>movie</td>\n",
       "      <td>14.090909</td>\n",
       "      <td>800</td>\n",
       "      <td>44.205605</td>\n",
       "      <td>13.038532</td>\n",
       "      <td>27</td>\n",
       "      <td>677.0</td>\n",
       "      <td>0.093392</td>\n",
       "      <td>31.441654</td>\n",
       "    </tr>\n",
       "    <tr>\n",
       "      <th>7020</th>\n",
       "      <td>7317</td>\n",
       "      <td>I cant believe this film was allowed to be mad...</td>\n",
       "      <td>movie</td>\n",
       "      <td>9.416667</td>\n",
       "      <td>636</td>\n",
       "      <td>55.726883</td>\n",
       "      <td>20.266338</td>\n",
       "      <td>23</td>\n",
       "      <td>731.0</td>\n",
       "      <td>0.097027</td>\n",
       "      <td>31.885089</td>\n",
       "    </tr>\n",
       "    <tr>\n",
       "      <th>7021</th>\n",
       "      <td>7318</td>\n",
       "      <td>The version I saw of this film was the Blockbu...</td>\n",
       "      <td>movie</td>\n",
       "      <td>13.000000</td>\n",
       "      <td>728</td>\n",
       "      <td>20.359941</td>\n",
       "      <td>7.068708</td>\n",
       "      <td>3</td>\n",
       "      <td>680.0</td>\n",
       "      <td>0.091092</td>\n",
       "      <td>32.423529</td>\n",
       "    </tr>\n",
       "    <tr>\n",
       "      <th>7022</th>\n",
       "      <td>7319</td>\n",
       "      <td>Piece of subtle art. Maybe a masterpiece. Doub...</td>\n",
       "      <td>movie</td>\n",
       "      <td>9.071429</td>\n",
       "      <td>790</td>\n",
       "      <td>30.493101</td>\n",
       "      <td>-3.919783</td>\n",
       "      <td>3</td>\n",
       "      <td>720.0</td>\n",
       "      <td>0.098563</td>\n",
       "      <td>31.700000</td>\n",
       "    </tr>\n",
       "  </tbody>\n",
       "</table>\n",
       "<p>7023 rows × 11 columns</p>\n",
       "</div>"
      ],
      "text/plain": [
       "      post_id                                               text     topic  \\\n",
       "0           1  UK economy facing major risks\\n\\nThe UK manufa...  business   \n",
       "1           2  Aids and climate top Davos agenda\\n\\nClimate c...  business   \n",
       "2           3  Asian quake hits European shares\\n\\nShares in ...  business   \n",
       "3           4  India power shares jump on debut\\n\\nShares in ...  business   \n",
       "4           5  Lacroix label bought by US firm\\n\\nLuxury good...  business   \n",
       "...       ...                                                ...       ...   \n",
       "7018     7315  OK, I would not normally watch a Farrelly brot...     movie   \n",
       "7019     7316  I give this movie 2 stars purely because of it...     movie   \n",
       "7020     7317  I cant believe this film was allowed to be mad...     movie   \n",
       "7021     7318  The version I saw of this film was the Blockbu...     movie   \n",
       "7022     7319  Piece of subtle art. Maybe a masterpiece. Doub...     movie   \n",
       "\n",
       "      average_sentence_length  post_len  tsne-2d-one  tsne-2d-two  cluster  \\\n",
       "0                   19.117647      1967   -54.696510    -3.841329       19   \n",
       "1                   23.631579      2701   -51.182384   -20.905855       19   \n",
       "2                   10.865385      3408   -49.081220   -15.098360       19   \n",
       "3                   15.818182      1026   -43.553980   -14.994580        4   \n",
       "4                   21.428571       889   -30.916187   -18.663040        4   \n",
       "...                       ...       ...          ...          ...      ...   \n",
       "7018                14.454545       803    23.089860     8.660326        3   \n",
       "7019                14.090909       800    44.205605    13.038532       27   \n",
       "7020                 9.416667       636    55.726883    20.266338       23   \n",
       "7021                13.000000       728    20.359941     7.068708        3   \n",
       "7022                 9.071429       790    30.493101    -3.919783        3   \n",
       "\n",
       "      total_likes  like_rate  avg_liking_age  \n",
       "0          1067.0   0.111436       29.099344  \n",
       "1           637.0   0.078333       31.910518  \n",
       "2          1122.0   0.117684       29.262923  \n",
       "3          1171.0   0.125523       29.084543  \n",
       "4          1153.0   0.118426       29.479618  \n",
       "...           ...        ...             ...  \n",
       "7018       2619.0   0.133903       22.554792  \n",
       "7019        677.0   0.093392       31.441654  \n",
       "7020        731.0   0.097027       31.885089  \n",
       "7021        680.0   0.091092       32.423529  \n",
       "7022        720.0   0.098563       31.700000  \n",
       "\n",
       "[7023 rows x 11 columns]"
      ]
     },
     "execution_count": 25,
     "metadata": {},
     "output_type": "execute_result"
    }
   ],
   "source": [
    "posts_df"
   ]
  },
  {
   "cell_type": "markdown",
   "id": "b3c66545-8009-4f9e-863c-d226020a868e",
   "metadata": {},
   "source": [
    "## Find favorite topic for each user"
   ]
  },
  {
   "cell_type": "code",
   "execution_count": 50,
   "id": "cc6d8735-dfa3-4bff-9c05-7a9b9d040017",
   "metadata": {},
   "outputs": [],
   "source": [
    "select = \"SELECT user_id, post_id FROM feed_data WHERE action = 'like'\"\n",
    "users_likes = load_features(select)"
   ]
  },
  {
   "cell_type": "code",
   "execution_count": 54,
   "id": "40d04431-99e0-4148-aeac-7dbf2d94d039",
   "metadata": {},
   "outputs": [],
   "source": [
    "users_likes_posts = pd.merge(users_likes, posts_df[['post_id', 'topic']], on='post_id', how='left')"
   ]
  },
  {
   "cell_type": "code",
   "execution_count": 55,
   "id": "ad378e0c-81dc-4629-a435-566bb71d0caa",
   "metadata": {},
   "outputs": [],
   "source": [
    "popular_topics_per_user = users_likes_posts.groupby(['user_id', 'topic']).size().reset_index(name='topic_count')\n",
    "\n",
    "most_popular_topic_per_user = popular_topics_per_user.loc[popular_topics_per_user.groupby('user_id')['topic_count'].idxmax()]\n",
    "\n",
    "most_popular_topic_per_user = most_popular_topic_per_user.set_index('user_id')"
   ]
  },
  {
   "cell_type": "code",
   "execution_count": 56,
   "id": "21c4302a-ce39-4ada-b7b2-92f04ba3617e",
   "metadata": {},
   "outputs": [],
   "source": [
    "select = \"SELECT * from user_data\"\n",
    "users_df = load_features(select)"
   ]
  },
  {
   "cell_type": "code",
   "execution_count": 57,
   "id": "c5b88dbd-cd49-4d72-b0d8-d6b2dade1f14",
   "metadata": {},
   "outputs": [],
   "source": [
    "users_df['favorite_topic'] = users_df['user_id'].map(most_popular_topic_per_user['topic']).fillna('unknown')"
   ]
  },
  {
   "cell_type": "code",
   "execution_count": 64,
   "id": "b6920c34-1eb0-4a24-b57c-cb423c0d77a0",
   "metadata": {},
   "outputs": [
    {
     "data": {
      "text/plain": [
       "favorite_topic\n",
       "movie            129667\n",
       "covid             24896\n",
       "sport              5148\n",
       "business           1620\n",
       "politics           1026\n",
       "entertainment       825\n",
       "tech                 20\n",
       "unknown               3\n",
       "Name: count, dtype: int64"
      ]
     },
     "execution_count": 64,
     "metadata": {},
     "output_type": "execute_result"
    }
   ],
   "source": [
    "users_df['favorite_topic'].value_counts()"
   ]
  },
  {
   "cell_type": "code",
   "execution_count": 63,
   "id": "2995d64b-76a1-42cb-8afe-6034348c6fdb",
   "metadata": {},
   "outputs": [
    {
     "data": {
      "text/plain": [
       "205"
      ]
     },
     "execution_count": 63,
     "metadata": {},
     "output_type": "execute_result"
    }
   ],
   "source": [
    "engine = create_engine(\n",
    "        \"postgresql://robot-startml-ro:pheiph0hahj1Vaif@\"\n",
    "        \"postgres.lab.karpov.courses:6432/startml\"\n",
    "    )\n",
    "\n",
    "users_df.to_sql('b_shramko_users_features_lesson_22', con=engine, if_exists='replace', index=False)"
   ]
  },
  {
   "cell_type": "code",
   "execution_count": 62,
   "id": "902d0571-0f2e-4159-9f67-c2f31cf3edcc",
   "metadata": {},
   "outputs": [],
   "source": [
    "users_df.to_csv('users.csv', index=False)"
   ]
  },
  {
   "cell_type": "code",
   "execution_count": null,
   "id": "b48bbb67-811d-4cff-9e90-38ae03df7151",
   "metadata": {},
   "outputs": [],
   "source": []
  },
  {
   "cell_type": "code",
   "execution_count": null,
   "id": "03602398-e289-4547-bb37-f92502861eec",
   "metadata": {},
   "outputs": [],
   "source": []
  },
  {
   "cell_type": "code",
   "execution_count": null,
   "id": "e61c51b1-7f2d-4af8-8493-879e729a3f44",
   "metadata": {},
   "outputs": [],
   "source": []
  }
 ],
 "metadata": {
  "kernelspec": {
   "display_name": "Python 3 (ipykernel)",
   "language": "python",
   "name": "python3"
  },
  "language_info": {
   "codemirror_mode": {
    "name": "ipython",
    "version": 3
   },
   "file_extension": ".py",
   "mimetype": "text/x-python",
   "name": "python",
   "nbconvert_exporter": "python",
   "pygments_lexer": "ipython3",
   "version": "3.11.5"
  }
 },
 "nbformat": 4,
 "nbformat_minor": 5
}
